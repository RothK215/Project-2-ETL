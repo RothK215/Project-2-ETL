{
 "cells": [
  {
   "cell_type": "code",
   "execution_count": null,
   "id": "11dd2af9",
   "metadata": {},
   "outputs": [],
   "source": [
    "import pandas as pd"
   ]
  },
  {
   "cell_type": "markdown",
   "id": "6570fbea",
   "metadata": {},
   "source": [
    "# **_New York City Inspection_**"
   ]
  },
  {
   "cell_type": "code",
   "execution_count": null,
   "id": "ae5130ed",
   "metadata": {
    "scrolled": false
   },
   "outputs": [],
   "source": [
    "# New York City Inscpection CSV\n",
    "nyc = \"../Resources/DOHMH_New_York_City_Restaurant_Inspection_Results.csv\"\n",
    "nyc_df = pd.read_csv(nyc)\n",
    "nyc_df.head()"
   ]
  },
  {
   "cell_type": "code",
   "execution_count": null,
   "id": "17dd7075",
   "metadata": {},
   "outputs": [],
   "source": [
    "# Create Copy of original CSV\n",
    "nycdf = nyc_df.copy()"
   ]
  },
  {
   "cell_type": "code",
   "execution_count": null,
   "id": "8a666220",
   "metadata": {},
   "outputs": [],
   "source": [
    "# Drop any duplicate rows.\n",
    "nycdf = nycdf.drop_duplicates()\n",
    "\n",
    "# Replace any missing zipcode with 0 and Remove decimal place in zip code.\n",
    "nycdf['ZIPCODE'] = nycdf['ZIPCODE'].fillna(0)\n",
    "nycdf['ZIPCODE'] = nycdf['ZIPCODE'].astype(int)\n",
    "\n",
    "# Merge Building with Street in one called Address\n",
    "nycdf['ADDRESS'] = nycdf['BUILDING'] + f\" \" + nycdf['STREET']\n",
    "\n",
    "# Unselect Building and Street columns\n",
    "nycdf = nycdf[['CAMIS', 'DBA', 'BORO', 'ADDRESS', 'ZIPCODE', 'PHONE', 'CUISINE DESCRIPTION', 'INSPECTION DATE', 'ACTION', \n",
    "               'VIOLATION CODE', 'VIOLATION DESCRIPTION', 'CRITICAL FLAG', 'SCORE', 'GRADE', 'GRADE DATE', 'RECORD DATE',\n",
    "               'INSPECTION TYPE']]\n",
    "\n",
    "nycdf.head()"
   ]
  },
  {
   "cell_type": "code",
   "execution_count": null,
   "id": "8ca53ead",
   "metadata": {},
   "outputs": [],
   "source": [
    "# See if there is any other value besides 08/28/2017 in thhe RECORD DATE\n",
    "# IF THERE IS JUST ONE VALUE, DELETE THE COLUMN\n",
    "nycdf['RECORD DATE'].value_counts()"
   ]
  },
  {
   "cell_type": "code",
   "execution_count": null,
   "id": "4e4cbd85",
   "metadata": {
    "scrolled": false
   },
   "outputs": [],
   "source": [
    "# Remove the RECORD DATE column\n",
    "nycdf = nycdf = nycdf[['CAMIS', 'DBA', 'BORO', 'ADDRESS', 'ZIPCODE', 'PHONE', 'CUISINE DESCRIPTION', 'INSPECTION DATE', 'ACTION', \n",
    "               'VIOLATION CODE', 'VIOLATION DESCRIPTION', 'CRITICAL FLAG', 'SCORE', 'GRADE', 'GRADE DATE', 'INSPECTION TYPE']]\n",
    "nycdf.head()"
   ]
  },
  {
   "cell_type": "code",
   "execution_count": null,
   "id": "2e78cbe3",
   "metadata": {
    "scrolled": true
   },
   "outputs": [],
   "source": [
    "# Reset Index without adding a column\n",
    "nycdf = nycdf.reset_index(drop=True, inplace=False)\n",
    "nycdf"
   ]
  },
  {
   "cell_type": "markdown",
   "id": "37e1d88a",
   "metadata": {},
   "source": [
    "# **_San Francisco Inspection_**"
   ]
  },
  {
   "cell_type": "code",
   "execution_count": null,
   "id": "220b0115",
   "metadata": {
    "scrolled": false
   },
   "outputs": [],
   "source": [
    "# San Francisco Inscpection CSV\n",
    "sf = \"../Resources/restaurant-scores-live-standard.csv\"\n",
    "sf_df = pd.read_csv(sf)\n",
    "sf_df"
   ]
  },
  {
   "cell_type": "code",
   "execution_count": null,
   "id": "3f3ac302",
   "metadata": {},
   "outputs": [],
   "source": [
    "# Create Copy of original CSV\n",
    "sfdf = sf_df.copy()"
   ]
  },
  {
   "cell_type": "code",
   "execution_count": null,
   "id": "c89010ab",
   "metadata": {
    "scrolled": false
   },
   "outputs": [],
   "source": [
    "# Drop any duplicate rows.\n",
    "sfdf = sfdf.drop_duplicates()\n",
    "\n",
    "# Unselect unneeded columns business_latitude\n",
    "sfdf = sfdf[['business_id', 'business_name', 'business_address', 'business_city','business_state', 'business_postal_code',\n",
    "            'business_phone_number', 'inspection_id', 'inspection_date', 'inspection_score', 'inspection_type', 'violation_id', \n",
    "             'violation_description', 'risk_category']]\n",
    "\n",
    "# Convert the 'business_phone_number' to str instead of float so the whole number is revealed.\n",
    "sfdf['business_phone_number'] = sfdf['business_phone_number'].astype(str)\n",
    "\n",
    "# Rename most of the columns with 'business_' since information given is about the business name.\n",
    "sfdf = sfdf.rename(columns={'business_address': 'address',\n",
    "                     'business_city': 'city',\n",
    "                     'business_state': 'state',\n",
    "                     'business_postal_code': 'postal_code',\n",
    "                     'business_phone_number': 'phone_number'\n",
    "                        })\n",
    "\n",
    "sfdf.head()"
   ]
  },
  {
   "cell_type": "code",
   "execution_count": null,
   "id": "c8c03b5a",
   "metadata": {
    "scrolled": false
   },
   "outputs": [],
   "source": [
    "# Remove the decimal (.0) from phone_number\n",
    "sfdf['phone_number'] = sfdf['phone_number'].str.strip(\".0\")\n",
    "\n",
    "# Converted the datetime from the inspection_date to just the date.\n",
    "sfdf['inspection_date'] = pd.to_datetime(sfdf['inspection_date'])\n",
    "\n",
    "# Make violation_id unique by removing the 2 sets of numbers that are based from their inspection id. THis allows us to find\n",
    "# similar results under the same violation_id.\n",
    "sfdf['violation_id'] =sfdf['violation_id'].str[-6:] \n",
    "\n",
    "sfdf"
   ]
  },
  {
   "cell_type": "code",
   "execution_count": null,
   "id": "6136beda",
   "metadata": {
    "scrolled": false
   },
   "outputs": [],
   "source": [
    "# Reset Index without adding a column\n",
    "sfdf = sfdf.reset_index(drop=True, inplace=False)\n",
    "sfdf"
   ]
  },
  {
   "cell_type": "code",
   "execution_count": 17,
   "id": "523930ea",
   "metadata": {},
   "outputs": [],
   "source": [
    "import sqlalchemy\n",
    "from sqlalchemy.ext.automap import automap_base\n",
    "from sqlalchemy.orm import Session\n",
    "from sqlalchemy import create_engine"
   ]
  },
  {
   "cell_type": "code",
   "execution_count": null,
   "id": "ad7ef434",
   "metadata": {},
   "outputs": [],
   "source": [
    "protocol = 'postgresql'\n",
    "username = 'postgres'\n",
    "password = 'vineyard'\n",
    "host = 'localhost'\n",
    "port = 5432\n",
    "database_name = 'inspections_db'\n",
    "rds_connection_string = f'{protocol}://{username}:{password}@{host}:{port}/{database_name}'\n",
    "engine = create_engine(rds_connection_string)"
   ]
  },
  {
   "cell_type": "code",
   "execution_count": null,
   "id": "d3033d85",
   "metadata": {},
   "outputs": [],
   "source": [
    "engine.table_names()"
   ]
  },
  {
   "cell_type": "code",
   "execution_count": null,
   "id": "1e01b1dc",
   "metadata": {},
   "outputs": [],
   "source": [
    "# load NYC inspection data\n",
    "nycdf.to_sql(name='nyc_data', con=engine, if_exists='append', index=False)"
   ]
  },
  {
   "cell_type": "code",
   "execution_count": null,
   "id": "86f41b41",
   "metadata": {},
   "outputs": [],
   "source": [
    "# load SF inspection data\n",
    "sfdf.to_sql(name='sf_data', con=engine, if_exists='append', index=False)"
   ]
  },
  {
   "cell_type": "code",
   "execution_count": null,
   "id": "9223339b",
   "metadata": {},
   "outputs": [],
   "source": []
  }
 ],
 "metadata": {
  "kernelspec": {
   "display_name": "Python 3 (ipykernel)",
   "language": "python",
   "name": "python3"
  },
  "language_info": {
   "codemirror_mode": {
    "name": "ipython",
    "version": 3
   },
   "file_extension": ".py",
   "mimetype": "text/x-python",
   "name": "python",
   "nbconvert_exporter": "python",
   "pygments_lexer": "ipython3",
   "version": "3.9.12"
  },
  "vscode": {
   "interpreter": {
    "hash": "f08154012ddadd8e950e6e9e035c7a7b32c136e7647e9b7c77e02eb723a8bedb"
   }
  }
 },
 "nbformat": 4,
 "nbformat_minor": 5
}
